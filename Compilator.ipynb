{
 "cells": [
  {
   "cell_type": "code",
   "execution_count": 1,
   "id": "769b8959-7151-4d6c-8110-b4955b15956f",
   "metadata": {},
   "outputs": [],
   "source": [
    "import firebase_admin\n",
    "from firebase_admin import credentials, firestore\n",
    "import random"
   ]
  },
  {
   "cell_type": "code",
   "execution_count": 2,
   "id": "54a8a1a6-c89d-407b-ba53-f50047f3c6f5",
   "metadata": {},
   "outputs": [],
   "source": [
    "cred = credentials.Certificate(\"C:/Users/Bayram/Desktop/Datailab/Questions/datailab.json\")\n",
    "firebase_admin.initialize_app(cred)\n",
    "\n",
    "db = firestore.client()"
   ]
  },
  {
   "cell_type": "code",
   "execution_count": 3,
   "id": "45f22ce4-09b9-4ffd-b25a-e5509d87eba3",
   "metadata": {},
   "outputs": [],
   "source": [
    "def generate_random_question():\n",
    "    questions_ref = db.collection(\"questions\")\n",
    "    query_snapshot = questions_ref.get()\n",
    "\n",
    "    questions = []\n",
    "    for doc in query_snapshot:\n",
    "        questions.append(doc.to_dict())\n",
    "\n",
    "    random_index = random.randint(0, len(questions) - 1)\n",
    "    random_question = questions[random_index]\n",
    "\n",
    "    return random_question"
   ]
  },
  {
   "cell_type": "code",
   "execution_count": 4,
   "id": "a2eeda54-024e-4313-b675-7fbd3a493f4d",
   "metadata": {},
   "outputs": [
    {
     "name": "stdout",
     "output_type": "stream",
     "text": [
      "What is the answer to the ultimate question of life, the universe, and everything?\n",
      "42\n"
     ]
    }
   ],
   "source": [
    "question = generate_random_question()\n",
    "print(question[\"question_text\"])\n",
    "print(question[\"answer_text\"])"
   ]
  }
 ],
 "metadata": {
  "kernelspec": {
   "display_name": "Python 3 (ipykernel)",
   "language": "python",
   "name": "python3"
  },
  "language_info": {
   "codemirror_mode": {
    "name": "ipython",
    "version": 3
   },
   "file_extension": ".py",
   "mimetype": "text/x-python",
   "name": "python",
   "nbconvert_exporter": "python",
   "pygments_lexer": "ipython3",
   "version": "3.12.3"
  }
 },
 "nbformat": 4,
 "nbformat_minor": 5
}
