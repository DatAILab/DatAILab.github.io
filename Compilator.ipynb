{
  "metadata": {
    "kernelspec": {
      "name": "xeus-python",
      "display_name": "Python (XPython)",
      "language": "python"
    },
    "language_info": {
      "file_extension": ".py",
      "mimetype": "text/x-python",
      "name": "python",
      "version": "3.10.2"
    }
  },
  "nbformat_minor": 5,
  "nbformat": 4,
  "cells": [
    {
      "cell_type": "code",
      "source": "import firebase_admin\nfrom firebase_admin import credentials, firestore\nimport random",
      "metadata": {},
      "execution_count": 1,
      "outputs": [],
      "id": "769b8959-7151-4d6c-8110-b4955b15956f"
    },
    {
      "cell_type": "code",
      "source": "cred = credentials.Certificate(\"C:/Users/Bayram/Desktop/Datailab/Questions/datailab.json\")\nfirebase_admin.initialize_app(cred)",
      "metadata": {},
      "execution_count": 2,
      "outputs": [
        {
          "execution_count": 2,
          "output_type": "execute_result",
          "data": {
            "text/plain": [
              "<firebase_admin.App at 0x21de23b0dd0>"
            ]
          },
          "metadata": {}
        }
      ],
      "id": "54a8a1a6-c89d-407b-ba53-f50047f3c6f5"
    },
    {
      "cell_type": "code",
      "source": "def generate_random_question():\n    db = firestore.client()\n    questions_ref = db.collection(\"questions\")\n    query_snapshot = questions_ref.get()\n\n    questions = []\n    for doc in query_snapshot:\n        questions.append(doc.to_dict())\n\n    random_index = random.randint(0, len(questions) - 1)\n    random_question = questions[random_index]\n\n    return random_question\n",
      "metadata": {},
      "execution_count": 3,
      "outputs": [],
      "id": "2e2dbe2d-7c0a-4ec7-a360-a036e08c32e1"
    },
    {
      "cell_type": "code",
      "source": "question = generate_random_question()\nprint(\"The question is : \" + question[\"question_text\"])\nprint(\"The Answer is : \" + question[\"answer_text\"])",
      "metadata": {},
      "execution_count": 9,
      "outputs": [
        {
          "name": "stdout",
          "output_type": "stream",
          "text": "The question is : What is the most abundant element in the universe?\n\nThe Answer is : Hydrogen\n"
        }
      ],
      "id": "1b3013fa-75d1-4440-a564-950393e8ab5a"
    },
    {
      "cell_type": "markdown",
      "source": "<div style=\"\n    color: red; \n    border: 2px solid black; \n    border-radius: 15px; \n    padding: 8px; \n    font-size: 24px; \n    font-weight: bold; \n    text-align: center; \n    margin: 20px 0;\">\n    <div style=\"\n        border: 2px solid red; \n        border-radius: 10px; \n        padding: 10px;\">\n        <img src=\"https://media.licdn.com/dms/image/v2/D4E0BAQF27Sh4-IRr7A/company-logo_200_200/company-logo_200_200/0/1713276164757/data_ai_lab_logo?e=2147483647&v=beta&t=vuW3SP-JGKt89xlyHOAGl16azs6ieKSMNWSCUgPg_YQ\"  style=\"max-width: 10%; height: auto;\"> \n    </div>\n</div>",
      "metadata": {},
      "id": "5a81c62e-c724-41b8-9a7b-56fe58a0866a"
    },
    {
      "cell_type": "code",
      "source": "",
      "metadata": {},
      "execution_count": null,
      "outputs": [],
      "id": "9d8915b5-e013-4785-a99b-d5338e8e59b0"
    }
  ]
}